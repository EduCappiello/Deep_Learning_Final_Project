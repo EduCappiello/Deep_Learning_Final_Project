{
 "cells": [
  {
   "cell_type": "code",
   "execution_count": null,
   "metadata": {},
   "outputs": [],
   "source": [
    "import numpy as np\n",
    "import pandas as pd\n",
    "import cv2\n",
    "import sklearn\n",
    "import seaborn as sns\n",
    "import matplotlib.pyplot as plt\n",
    "from sklearn.metrics import confusion_matrix\n",
    "from sklearn.manifold import TSNE\n",
    "from sklearn.cluster import KMeans"
   ]
  },
  {
   "cell_type": "code",
   "execution_count": null,
   "metadata": {},
   "outputs": [],
   "source": [
    "DataSolarModules = pd.read_json('InfraredSolarModules/module_metadata.json').transpose().sort_index()\n",
    "Classes = DataSolarModules['anomaly_class'].unique()\n",
    "class_to_number = dict(enumerate(Classes.flatten(), 0))\n",
    "class_to_number = {v: k for k, v in class_to_number.items()}"
   ]
  },
  {
   "cell_type": "code",
   "execution_count": null,
   "metadata": {},
   "outputs": [],
   "source": [
    "def map_to_class(value):\n",
    "    class_to_number\n",
    "    return class_to_number.get(value, 'Unknown')\n",
    "\n",
    "DataSolarModules['class_code'] = DataSolarModules['anomaly_class'].apply(map_to_class)"
   ]
  },
  {
   "cell_type": "code",
   "execution_count": null,
   "metadata": {},
   "outputs": [],
   "source": [
    "def read_images_dataframe(dataframe):\n",
    "    images = []\n",
    "    for image_path in dataframe['image_filepath']:\n",
    "        img = cv2.imread(\"InfraredSolarModules/\"+image_path,cv2.IMREAD_GRAYSCALE)\n",
    "        img = img.reshape(40, 24).astype(\"float32\") / 255\n",
    "        images.append(img)\n",
    "    images=np.array(images) \n",
    "    return images\n",
    "\n",
    "def read_labels_dataframe(dataframe):\n",
    "    labels = []\n",
    "    for label in dataframe['class_code']:\n",
    "        labels.append(label)\n",
    "    labels=np.array(labels) \n",
    "    labels.astype(\"int32\")   \n",
    "    return labels"
   ]
  },
  {
   "cell_type": "code",
   "execution_count": null,
   "metadata": {},
   "outputs": [],
   "source": [
    "images = read_images_dataframe(DataSolarModules)\n",
    "labels = read_labels_dataframe(DataSolarModules)"
   ]
  },
  {
   "cell_type": "code",
   "execution_count": null,
   "metadata": {},
   "outputs": [],
   "source": [
    "# Define perplexity values\n",
    "perplexity_values = [5, 10, 20, 30, 50]"
   ]
  },
  {
   "cell_type": "code",
   "execution_count": null,
   "metadata": {},
   "outputs": [],
   "source": [
    "# Iterate over perplexity values for T-SNE visualization with cluster labels\n",
    "for perplexity in perplexity_values:\n",
    "    # Reduce dimensionality using T-SNE with different perplexity values\n",
    "    tsne = TSNE(n_components=2, perplexity=perplexity, random_state=42)\n",
    "    tsne_result = tsne.fit_transform(images.reshape(images.shape[0], -1))\n",
    "\n",
    "    # Perform K-means clustering\n",
    "    kmeans = KMeans(n_clusters=len(Classes), random_state=42)\n",
    "    cluster_labels = kmeans.fit_predict(images.reshape(images.shape[0], -1))\n",
    "\n",
    "    # Create a DataFrame for visualization\n",
    "    tsne_df = pd.DataFrame(tsne_result, columns=['tsne1', 'tsne2'])\n",
    "    tsne_df['cluster'] = cluster_labels\n",
    "\n",
    "    # Plot the T-SNE visualization with cluster labels\n",
    "    plt.figure(figsize=(10, 8))\n",
    "    sns.scatterplot(\n",
    "        x='tsne1', y='tsne2',\n",
    "        hue='cluster',\n",
    "        palette='tab10',\n",
    "        data=tsne_df,\n",
    "        legend='full',\n",
    "        alpha=0.8\n",
    "    )\n",
    "    plt.title(f'T-SNE Visualization with Cluster Labels (Perplexity={perplexity})')\n",
    "    plt.xlabel('T-SNE Component 1')\n",
    "    plt.ylabel('T-SNE Component 2')\n",
    "    plt.show()"
   ]
  },
  {
   "cell_type": "code",
   "execution_count": null,
   "metadata": {},
   "outputs": [],
   "source": [
    "# Iterate over perplexity values for T-SNE visualization with class labels\n",
    "for perplexity in perplexity_values:\n",
    "    # Reduce dimensionality using T-SNE with different perplexity values\n",
    "    tsne = TSNE(n_components=2, perplexity=perplexity, random_state=42)\n",
    "    tsne_result = tsne.fit_transform(images.reshape(images.shape[0], -1))\n",
    "\n",
    "    # Create a DataFrame for visualization\n",
    "    tsne_df = pd.DataFrame(tsne_result, columns=['tsne1', 'tsne2'])\n",
    "    tsne_df['class'] = DataSolarModules['anomaly_class']\n",
    "\n",
    "    # Plot the T-SNE visualization with class labels\n",
    "    plt.figure(figsize=(10, 8))\n",
    "    sns.scatterplot(\n",
    "        x='tsne1', y='tsne2',\n",
    "        hue='class',\n",
    "        palette='hsv',\n",
    "        data=tsne_df,\n",
    "        legend='full',\n",
    "        alpha=0.8\n",
    "    )\n",
    "    plt.title(f'T-SNE Visualization with Class Labels (Perplexity={perplexity})')\n",
    "    plt.xlabel('T-SNE Component 1')\n",
    "    plt.ylabel('T-SNE Component 2')\n",
    "    plt.show()"
   ]
  },
  {
   "cell_type": "code",
   "execution_count": null,
   "metadata": {},
   "outputs": [],
   "source": [
    "# Perform K-means clustering for confusion matrices\n",
    "kmeans = KMeans(n_clusters=len(Classes), random_state=42)\n",
    "cluster_labels = kmeans.fit_predict(images.reshape(images.shape[0], -1))\n",
    "\n",
    "# Compute confusion matrix for cluster labels\n",
    "conf_matrix_cluster = confusion_matrix(labels, cluster_labels)\n",
    "\n",
    "# Plot confusion matrix for cluster labels\n",
    "plt.figure(figsize=(8, 6))\n",
    "sns.heatmap(\n",
    "    conf_matrix_cluster,\n",
    "    annot=True,\n",
    "    fmt='d',\n",
    "    cmap='Blues',\n",
    "    xticklabels=np.unique(cluster_labels),\n",
    "    yticklabels=np.unique(labels)\n",
    ")\n",
    "plt.xlabel('Cluster Label')\n",
    "plt.ylabel('Class Label')\n",
    "plt.title('Confusion Matrix: Cluster vs Class Labels')\n",
    "plt.show()"
   ]
  }
 ],
 "metadata": {
  "kernelspec": {
   "display_name": "Python 3.10.6 ('.Keras': venv)",
   "language": "python",
   "name": "python3"
  },
  "language_info": {
   "codemirror_mode": {
    "name": "ipython",
    "version": 3
   },
   "file_extension": ".py",
   "mimetype": "text/x-python",
   "name": "python",
   "nbconvert_exporter": "python",
   "pygments_lexer": "ipython3",
   "version": "3.10.10"
  },
  "orig_nbformat": 4,
  "vscode": {
   "interpreter": {
    "hash": "8c6bf8e3c71d29b289656a0e522ae20919f8da47e1e0df367350538eb0f05593"
   }
  }
 },
 "nbformat": 4,
 "nbformat_minor": 2
}
