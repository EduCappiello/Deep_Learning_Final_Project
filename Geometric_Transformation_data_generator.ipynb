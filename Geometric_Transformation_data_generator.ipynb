{
 "cells": [
  {
   "cell_type": "code",
   "execution_count": 1,
   "metadata": {},
   "outputs": [
    {
     "name": "stderr",
     "output_type": "stream",
     "text": [
      "2024-05-25 20:42:15.841493: I tensorflow/core/platform/cpu_feature_guard.cc:210] This TensorFlow binary is optimized to use available CPU instructions in performance-critical operations.\n",
      "To enable the following instructions: AVX2 FMA, in other operations, rebuild TensorFlow with the appropriate compiler flags.\n",
      "2024-05-25 20:42:16.373437: W tensorflow/compiler/tf2tensorrt/utils/py_utils.cc:38] TF-TRT Warning: Could not find TensorRT\n"
     ]
    }
   ],
   "source": [
    "import numpy as np\n",
    "import pandas as pd\n",
    "import cv2\n",
    "import tensorflow as tf\n",
    "import keras\n",
    "import keras.layers as layers\n",
    "import sklearn\n",
    "import seaborn as sns\n",
    "import matplotlib.pyplot as plt\n",
    "from sklearn.model_selection import RepeatedKFold, train_test_split\n",
    "from sklearn.metrics import confusion_matrix"
   ]
  },
  {
   "cell_type": "code",
   "execution_count": 2,
   "metadata": {},
   "outputs": [],
   "source": [
    "DataSolarModules = pd.read_json('InfraredSolarModules/module_metadata.json').transpose().sort_index()\n",
    "Classes = DataSolarModules['anomaly_class'].unique()\n",
    "class_to_number = dict(enumerate(Classes.flatten(), 0))\n",
    "class_to_number = {v: k for k, v in class_to_number.items()}\n",
    "\n",
    "def map_to_class(value):\n",
    "    class_to_number\n",
    "    return class_to_number.get(value, 'Unknown')\n",
    "\n",
    "DataSolarModules['class_code'] = DataSolarModules['anomaly_class'].apply(map_to_class)\n",
    "\n",
    "def read_images_dataframe(dataframe):\n",
    "    images = []\n",
    "    for image_path in dataframe['image_filepath']:\n",
    "        img = cv2.imread(\"InfraredSolarModules/\"+image_path,cv2.IMREAD_GRAYSCALE)\n",
    "        img = img.reshape(40, 24).astype(\"float32\") / 255\n",
    "        images.append(img)\n",
    "    images=np.array(images) \n",
    "    return images\n",
    "\n",
    "def read_labels_dataframe(dataframe):\n",
    "    labels = []\n",
    "    for label in dataframe['class_code']:\n",
    "        labels.append(label)\n",
    "    labels=np.array(labels) \n",
    "    labels.astype(\"int32\")   \n",
    "    return labels"
   ]
  },
  {
   "cell_type": "code",
   "execution_count": 3,
   "metadata": {},
   "outputs": [],
   "source": [
    "images = read_images_dataframe(DataSolarModules)\n",
    "labels = read_labels_dataframe(DataSolarModules)"
   ]
  },
  {
   "cell_type": "code",
   "execution_count": 4,
   "metadata": {},
   "outputs": [],
   "source": [
    "# Create a testing set with 25 images per class\n",
    "num_images_per_class = 40\n",
    "\n",
    "def create_testing_set(dataframe, num_images_per_class):\n",
    "    test_indices = []\n",
    "    for cls in dataframe['class_code'].unique():\n",
    "        class_indices = dataframe[dataframe['class_code'] == cls].index[:num_images_per_class].tolist()\n",
    "        test_indices.extend(class_indices)\n",
    "    return test_indices\n",
    "\n",
    "test_indices = create_testing_set(DataSolarModules, num_images_per_class)\n",
    "data_test = np.array(test_indices)\n",
    "\n",
    "# Create a training set with the remaining images\n",
    "data_train = np.setdiff1d(np.arange(len(images)), data_test)"
   ]
  },
  {
   "cell_type": "code",
   "execution_count": 5,
   "metadata": {},
   "outputs": [],
   "source": [
    "images_train = images[data_train]\n",
    "labels_train = labels[data_train]"
   ]
  },
  {
   "cell_type": "code",
   "execution_count": 6,
   "metadata": {},
   "outputs": [],
   "source": [
    "def apply_geometric_transformations(images_train, labels_train):\n",
    "    transformed_images = []\n",
    "    transformed_labels = []\n",
    "\n",
    "    for i in range(len(images)):\n",
    "        original_image = images[i]\n",
    "        original_label = labels[i]\n",
    "\n",
    "        # Append original image and label\n",
    "        transformed_images.append(original_image)\n",
    "        transformed_labels.append(original_label)\n",
    "\n",
    "        # Flip vertically\n",
    "        flipped_vertically = cv2.flip(original_image, 0)\n",
    "        transformed_images.append(flipped_vertically)\n",
    "        transformed_labels.append(original_label)\n",
    "\n",
    "        # Flip horizontally\n",
    "        flipped_horizontally = cv2.flip(original_image, 1)\n",
    "        transformed_images.append(flipped_horizontally)\n",
    "        transformed_labels.append(original_label)\n",
    "\n",
    "        # Flip both vertically and horizontally\n",
    "        flipped_both = cv2.flip(original_image, -1)\n",
    "        transformed_images.append(flipped_both)\n",
    "        transformed_labels.append(original_label)\n",
    "\n",
    "    transformed_images = np.array(transformed_images) * 255  # Convert back to 0-255 range\n",
    "    transformed_labels = np.array(transformed_labels)\n",
    "    return transformed_images, transformed_labels\n",
    "\n",
    "# Apply geometric transformations\n",
    "images_GT, labels_GT = apply_geometric_transformations(images, labels)\n"
   ]
  },
  {
   "cell_type": "code",
   "execution_count": 7,
   "metadata": {},
   "outputs": [],
   "source": [
    "import os\n",
    "import json\n",
    "\n",
    "# Create directory for saving images and metadata\n",
    "os.makedirs(\"InfraredSolarModules/imagesGT\", exist_ok=True)\n",
    "\n",
    "# Define metadata path\n",
    "metadata_path = \"InfraredSolarModules/GT_metadata.json\"\n",
    "\n",
    "# Define function to save images and generate metadata\n",
    "def save_images_and_metadata(images, labels, metadata_path):\n",
    "    metadata = {}\n",
    "    for i in range(len(images)):\n",
    "        # Save image\n",
    "        image_name = f\"{i}.jpg\"\n",
    "        save_path = os.path.join(\"InfraredSolarModules/imagesGT\", image_name)\n",
    "        cv2.imwrite(save_path, images[i])\n",
    "\n",
    "        # Generate metadata entry\n",
    "        metadata_entry = {\n",
    "            \"image_filepath\": f\"imagesGT/{image_name}\",\n",
    "            \"anomaly_class\": Classes[int(labels[i])]\n",
    "        }\n",
    "        metadata[str(i)] = metadata_entry\n",
    "\n",
    "    # Write metadata to JSON file\n",
    "    with open(metadata_path, \"w\") as f:\n",
    "        json.dump(metadata, f)\n",
    "\n",
    "# Save images and metadata\n",
    "save_images_and_metadata(images_GT, labels_GT, metadata_path)"
   ]
  }
 ],
 "metadata": {
  "kernelspec": {
   "display_name": ".venv",
   "language": "python",
   "name": "python3"
  },
  "language_info": {
   "codemirror_mode": {
    "name": "ipython",
    "version": 3
   },
   "file_extension": ".py",
   "mimetype": "text/x-python",
   "name": "python",
   "nbconvert_exporter": "python",
   "pygments_lexer": "ipython3",
   "version": "3.10.12"
  }
 },
 "nbformat": 4,
 "nbformat_minor": 2
}
